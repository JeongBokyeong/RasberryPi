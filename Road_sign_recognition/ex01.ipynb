{
 "cells": [
  {
   "cell_type": "code",
   "execution_count": 1,
   "metadata": {},
   "outputs": [],
   "source": [
    "from keras.models import load_model\n",
    "classifier = load_model('SignRec-CNN.h5')\n"
   ]
  },
  {
   "cell_type": "code",
   "execution_count": 2,
   "metadata": {},
   "outputs": [],
   "source": [
    "import cv2\n",
    "cap = cv2.VideoCapture(0)\n",
    "ret, frame = cap.read()\n",
    "    #resize the frame\n",
    "frame = cv2.resize(frame, (1024, 768))\n",
    "    # save captured image"
   ]
  },
  {
   "cell_type": "code",
   "execution_count": 3,
   "metadata": {},
   "outputs": [],
   "source": [
    "import numpy as np\n",
    "import time"
   ]
  },
  {
   "cell_type": "code",
   "execution_count": 4,
   "metadata": {},
   "outputs": [],
   "source": [
    "def ImgCapture():\n",
    "    time.sleep(0.1)\n",
    "    cap.capture('C:\\RasberryPi\\Demo01111\\signDetected.jpg')"
   ]
  },
  {
   "cell_type": "code",
   "execution_count": 5,
   "metadata": {},
   "outputs": [],
   "source": [
    "def prepare(path):\n",
    "    img = Image.open(path)\n",
    "    img_reshaped = img.resize((32, 32))\n",
    "    img_rotated = img_reshaped.rotate(180)\n",
    "    img_rotated.save(path)\n",
    "    img = Image.open(path)\n",
    "    img = np.expand_dims(img, axis = 0)\n",
    "    img = img/255\n",
    "    return img"
   ]
  },
  {
   "cell_type": "code",
   "execution_count": null,
   "metadata": {},
   "outputs": [],
   "source": [
    "\n",
    "def predictt(path):\n",
    "\tprediction = classifier.predict([prepare(path)])\n",
    "\tL1=[]\n",
    "\tprediction\n",
    "\tn=(np.argmax(prediction))\n",
    "\tX=prediction[0][n]\n",
    "\t#print(np.argmax(prediction))\n",
    "\tL1.append(n)\n",
    "\tL1.append(X)\n",
    "\treturn L1"
   ]
  },
  {
   "cell_type": "code",
   "execution_count": 7,
   "metadata": {},
   "outputs": [],
   "source": [
    "def drive():\n",
    "    print(\"a\")\n",
    "    L1=[]\n",
    "    ImgCapture()\n",
    "    prepare('C:\\RasberryPi\\Demo01111\\signDetected.jpg')\n",
    "    L1=predictt('C:\\RasberryPi\\Demo01111\\signDetected.jpg')\n"
   ]
  },
  {
   "cell_type": "code",
   "execution_count": null,
   "metadata": {},
   "outputs": [
    {
     "ename": "",
     "evalue": "",
     "output_type": "error",
     "traceback": [
      "\u001b[1;31mCanceled future for execute_request message before replies were done"
     ]
    },
    {
     "ename": "",
     "evalue": "",
     "output_type": "error",
     "traceback": [
      "\u001b[1;31mThe Kernel crashed while executing code in the the current cell or a previous cell. Please review the code in the cell(s) to identify a possible cause of the failure. Click <a href='https://aka.ms/vscodeJupyterKernelCrash'>here</a> for more info. View Jupyter <a href='command:jupyter.viewOutput'>log</a> for further details."
     ]
    }
   ],
   "source": [
    "import curses\n",
    "\n",
    "\n",
    "screen=curses.initscr()\n",
    "curses.noecho()\n",
    "curses.cbreak()\n",
    "screen.keypad(True)"
   ]
  },
  {
   "cell_type": "code",
   "execution_count": 1,
   "metadata": {},
   "outputs": [
    {
     "ename": "NameError",
     "evalue": "name 'curses' is not defined",
     "output_type": "error",
     "traceback": [
      "\u001b[1;31m---------------------------------------------------------------------------\u001b[0m",
      "\u001b[1;31mNameError\u001b[0m                                 Traceback (most recent call last)",
      "\u001b[1;32mc:\\RasberryPi\\Demo01111\\Road_sign_recognition\\ex01.ipynb Cell 9\u001b[0m in \u001b[0;36m<cell line: 1>\u001b[1;34m()\u001b[0m\n\u001b[0;32m      <a href='vscode-notebook-cell:/c%3A/RasberryPi/Demo01111/Road_sign_recognition/ex01.ipynb#X11sZmlsZQ%3D%3D?line=1'>2</a>\u001b[0m \u001b[39mwhile\u001b[39;00m \u001b[39mTrue\u001b[39;00m:\n\u001b[1;32m----> <a href='vscode-notebook-cell:/c%3A/RasberryPi/Demo01111/Road_sign_recognition/ex01.ipynb#X11sZmlsZQ%3D%3D?line=2'>3</a>\u001b[0m     char \u001b[39m=\u001b[39m screen\u001b[39m.\u001b[39mgetch()\n\u001b[0;32m      <a href='vscode-notebook-cell:/c%3A/RasberryPi/Demo01111/Road_sign_recognition/ex01.ipynb#X11sZmlsZQ%3D%3D?line=3'>4</a>\u001b[0m     \u001b[39mif\u001b[39;00m char \u001b[39m==\u001b[39m \u001b[39mord\u001b[39m(\u001b[39m'\u001b[39m\u001b[39mq\u001b[39m\u001b[39m'\u001b[39m):\n",
      "\u001b[1;31mNameError\u001b[0m: name 'screen' is not defined",
      "\nDuring handling of the above exception, another exception occurred:\n",
      "\u001b[1;31mNameError\u001b[0m                                 Traceback (most recent call last)",
      "\u001b[1;32mc:\\RasberryPi\\Demo01111\\Road_sign_recognition\\ex01.ipynb Cell 9\u001b[0m in \u001b[0;36m<cell line: 1>\u001b[1;34m()\u001b[0m\n\u001b[0;32m     <a href='vscode-notebook-cell:/c%3A/RasberryPi/Demo01111/Road_sign_recognition/ex01.ipynb#X11sZmlsZQ%3D%3D?line=14'>15</a>\u001b[0m             \u001b[39mprint\u001b[39m(\u001b[39m\"\u001b[39m\u001b[39mright\u001b[39m\u001b[39m\"\u001b[39m)\n\u001b[0;32m     <a href='vscode-notebook-cell:/c%3A/RasberryPi/Demo01111/Road_sign_recognition/ex01.ipynb#X11sZmlsZQ%3D%3D?line=15'>16</a>\u001b[0m \u001b[39mfinally\u001b[39;00m:\n\u001b[1;32m---> <a href='vscode-notebook-cell:/c%3A/RasberryPi/Demo01111/Road_sign_recognition/ex01.ipynb#X11sZmlsZQ%3D%3D?line=16'>17</a>\u001b[0m     curses\u001b[39m.\u001b[39mnocbreak(); screen\u001b[39m.\u001b[39mkeypad(\u001b[39m0\u001b[39m); curses\u001b[39m.\u001b[39mecho()\n\u001b[0;32m     <a href='vscode-notebook-cell:/c%3A/RasberryPi/Demo01111/Road_sign_recognition/ex01.ipynb#X11sZmlsZQ%3D%3D?line=17'>18</a>\u001b[0m     curses\u001b[39m.\u001b[39mendwin()\n",
      "\u001b[1;31mNameError\u001b[0m: name 'curses' is not defined"
     ]
    }
   ],
   "source": [
    "try:\n",
    "    while True:\n",
    "        char = screen.getch()\n",
    "        if char == ord('q'):\n",
    "            break\n",
    "        elif char == curses.KEY_UP:\n",
    "            print(\"up\")\n",
    "            drive()\n",
    "\n",
    "        elif char == curses.KEY_DOWN:\n",
    "            print(\"down\")\n",
    "        elif char == curses.KEY_LEFT:\n",
    "            print(\"left\")\n",
    "        elif char == curses.KEY_RIGHT:\n",
    "            print(\"right\")\n",
    "finally:\n",
    "    curses.nocbreak(); screen.keypad(0); curses.echo()\n",
    "    curses.endwin()"
   ]
  },
  {
   "cell_type": "code",
   "execution_count": null,
   "metadata": {},
   "outputs": [],
   "source": []
  }
 ],
 "metadata": {
  "kernelspec": {
   "display_name": "Python 3.10.6 64-bit",
   "language": "python",
   "name": "python3"
  },
  "language_info": {
   "codemirror_mode": {
    "name": "ipython",
    "version": 3
   },
   "file_extension": ".py",
   "mimetype": "text/x-python",
   "name": "python",
   "nbconvert_exporter": "python",
   "pygments_lexer": "ipython3",
   "version": "3.10.6"
  },
  "orig_nbformat": 4,
  "vscode": {
   "interpreter": {
    "hash": "d1817eae60fbde09b5b07aa1949a62b2d3d0b2cd19d514fb25362a8fbe1eeb7e"
   }
  }
 },
 "nbformat": 4,
 "nbformat_minor": 2
}
